{
  "nbformat": 4,
  "nbformat_minor": 0,
  "metadata": {
    "colab": {
      "provenance": []
    },
    "kernelspec": {
      "name": "python3",
      "display_name": "Python 3"
    },
    "language_info": {
      "name": "python"
    }
  },
  "cells": [
    {
      "cell_type": "code",
      "execution_count": 34,
      "metadata": {
        "id": "Ez1CqJ7e4Eaa"
      },
      "outputs": [],
      "source": [
        "class Node:\n",
        "    \"\"\"\n",
        "    Represents a single node in a singly linked list.\n",
        "    Each node contains data and a reference to the next node.\n",
        "    \"\"\"\n",
        "    def __init__(self, data):\n",
        "        self.data = data  # Store the data value of the node\n",
        "        self.next = None  # Reference to the next node (initialized as None)"
      ]
    },
    {
      "cell_type": "code",
      "source": [
        "class LinkedList:\n",
        "    \"\"\"\n",
        "    Manages a singly linked list composed of Node objects.\n",
        "    Provides methods to add nodes, print the list, and delete nodes by position.\n",
        "    \"\"\"\n",
        "    def __init__(self):\n",
        "        self.head = None  # Initially, the linked list is empty (head is None)\n",
        "\n",
        "    def add_node(self, data):\n",
        "        \"\"\"\n",
        "        Add a new node with the given data to the end of the linked list.\n",
        "        :param data: Data value to be stored in the new node.\n",
        "        \"\"\"\n",
        "        new_node = Node(data)  # Create a new node instance\n",
        "        if not self.head:\n",
        "            # If list is empty, make new node the head\n",
        "            self.head = new_node\n",
        "            return\n",
        "        # Otherwise, traverse to the last node and append the new node\n",
        "        last_node = self.head\n",
        "        while last_node.next:\n",
        "            last_node = last_node.next\n",
        "        last_node.next = new_node\n",
        "\n",
        "    def print_list(self):\n",
        "        \"\"\"\n",
        "        Print all values in the linked list in order.\n",
        "        If the list is empty, informs the user accordingly.\n",
        "        \"\"\"\n",
        "        current_node = self.head\n",
        "        if not current_node:\n",
        "            print(\"The list is empty.\")\n",
        "            return\n",
        "\n",
        "        while current_node:\n",
        "            print(current_node.data, end=\" -> \")\n",
        "            current_node = current_node.next\n",
        "        print(\"None\")  # Indicate the end of the list\n",
        "\n",
        "    def delete_nth_node(self, n):\n",
        "        \"\"\"\n",
        "        Delete the node at the nth position in the list (1-based index).\n",
        "        Raises exceptions for empty list, invalid index, or out-of-range index.\n",
        "        :param n: 1-based index of the node to delete.\n",
        "        \"\"\"\n",
        "        if not self.head:\n",
        "            raise Exception(\"Cannot delete from an empty list.\")\n",
        "\n",
        "        if n < 1:\n",
        "            raise Exception(\"Index must be a positive integer.\")\n",
        "\n",
        "        current_node = self.head\n",
        "\n",
        "        # Special case: if deleting the head node (1st node)\n",
        "        if n == 1:\n",
        "            self.head = current_node.next\n",
        "            return\n",
        "\n",
        "        # Traverse to the node immediately before the one to delete\n",
        "        for _ in range(n - 2):\n",
        "            current_node = current_node.next\n",
        "            if current_node is None:\n",
        "                raise Exception(\"Index out of range.\")\n",
        "\n",
        "        # If the next node is None, index is out of range\n",
        "        if current_node.next is None:\n",
        "            raise Exception(\"Index out of range.\")\n",
        "\n",
        "        # Bypass the nth node, effectively deleting it\n",
        "        current_node.next = current_node.next.next"
      ],
      "metadata": {
        "id": "IgAMPfdo4_m0"
      },
      "execution_count": 35,
      "outputs": []
    },
    {
      "cell_type": "code",
      "source": [
        "def add_node(self, data):\n",
        "        \"\"\"\n",
        "        Add a new node with the given data to the end of the linked list.\n",
        "        :param data: Data value to be stored in the new node.\n",
        "        \"\"\"\n",
        "        new_node = Node(data)  # Create a new node instance\n",
        "        if not self.head:\n",
        "            # If list is empty, make new node the head\n",
        "            self.head = new_node\n",
        "            return\n",
        "        # Otherwise, traverse to the last node and append the new node\n",
        "        last_node = self.head\n",
        "        while last_node.next:\n",
        "            last_node = last_node.next\n",
        "        last_node.next = new_node"
      ],
      "metadata": {
        "id": "sHVIJrM08ZE7"
      },
      "execution_count": 36,
      "outputs": []
    },
    {
      "cell_type": "code",
      "source": [
        " def print_list(self):\n",
        "        \"\"\"\n",
        "        Print all values in the linked list in order.\n",
        "        If the list is empty, informs the user accordingly.\n",
        "        \"\"\"\n",
        "        current_node = self.head\n",
        "        if not current_node:\n",
        "            print(\"The list is empty.\")\n",
        "            return\n",
        "\n",
        "        while current_node:\n",
        "            print(current_node.data, end=\" -> \")\n",
        "            current_node = current_node.next\n",
        "        print(\"None\")  # Indicate the end of the list"
      ],
      "metadata": {
        "id": "8j9BojAR7GSa"
      },
      "execution_count": 37,
      "outputs": []
    },
    {
      "cell_type": "code",
      "source": [
        "def delete_nth_node(self, n):\n",
        "        \"\"\"\n",
        "        Delete the node at the nth position in the list (1-based index).\n",
        "        Raises exceptions for empty list, invalid index, or out-of-range index.\n",
        "        :param n: 1-based index of the node to delete.\n",
        "        \"\"\"\n",
        "        if not self.head:\n",
        "            raise Exception(\"Cannot delete from an empty list.\")\n",
        "\n",
        "        if n < 1:\n",
        "            raise Exception(\"Index must be a positive integer.\")\n",
        "\n",
        "        current_node = self.head\n",
        "\n",
        "        # Special case: if deleting the head node (1st node)\n",
        "        if n == 1:\n",
        "            self.head = current_node.next\n",
        "            return\n",
        "\n",
        "        # Traverse to the node immediately before the one to delete\n",
        "        for _ in range(n - 2):\n",
        "            current_node = current_node.next\n",
        "            if current_node is None:\n",
        "                raise Exception(\"Index out of range.\")\n",
        "\n",
        "        # If the next node is None, index is out of range\n",
        "        if current_node.next is None:\n",
        "            raise Exception(\"Index out of range.\")\n",
        "\n",
        "        # Bypass the nth node, effectively deleting it\n",
        "        current_node.next = current_node.next.next"
      ],
      "metadata": {
        "id": "MH3SS8e98Mhx"
      },
      "execution_count": 38,
      "outputs": []
    },
    {
      "cell_type": "code",
      "source": [
        "# Demonstration and testing of the LinkedList class\n",
        "if __name__ == \"__main__\":\n",
        "    linked_list = LinkedList()\n",
        "\n",
        "    print(\"Adding nodes to the linked list:\")\n",
        "    linked_list.add_node(1)\n",
        "    linked_list.add_node(2)\n",
        "    linked_list.add_node(3)\n",
        "    linked_list.add_node(4)\n",
        "    linked_list.print_list()  # Expected: 1 -> 2 -> 3 -> 4 -> None\n",
        "\n",
        "    print(\"\\nDeleting the 2nd node (which has value 2):\")\n",
        "    linked_list.delete_nth_node(2)\n",
        "    linked_list.print_list()  # Expected: 1 -> 3 -> 4 -> None\n",
        "\n",
        "    print(\"\\nAttempting to delete from an empty list:\")\n",
        "    empty_list = LinkedList()\n",
        "    try:\n",
        "        empty_list.delete_nth_node(1)\n",
        "    except Exception as e:\n",
        "        print(f\"Caught an error: {e}\")\n",
        "\n",
        "    print(\"\\nAttempting to delete a node with index out of range:\")\n",
        "    try:\n",
        "        linked_list.delete_nth_node(5)\n",
        "    except Exception as e:\n",
        "        print(f\"Caught an error: {e}\")"
      ],
      "metadata": {
        "colab": {
          "base_uri": "https://localhost:8080/"
        },
        "id": "lnEQQq7s8TRp",
        "outputId": "c9d0ad7a-2712-4f21-e179-29d282eb48bc"
      },
      "execution_count": 39,
      "outputs": [
        {
          "output_type": "stream",
          "name": "stdout",
          "text": [
            "Adding nodes to the linked list:\n",
            "1 -> 2 -> 3 -> 4 -> None\n",
            "\n",
            "Deleting the 2nd node (which has value 2):\n",
            "1 -> 3 -> 4 -> None\n",
            "\n",
            "Attempting to delete from an empty list:\n",
            "Caught an error: Cannot delete from an empty list.\n",
            "\n",
            "Attempting to delete a node with index out of range:\n",
            "Caught an error: Index out of range.\n"
          ]
        }
      ]
    }
  ]
}