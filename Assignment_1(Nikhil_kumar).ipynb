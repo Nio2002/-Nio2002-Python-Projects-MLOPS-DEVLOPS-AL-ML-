{
  "nbformat": 4,
  "nbformat_minor": 0,
  "metadata": {
    "colab": {
      "provenance": [],
      "authorship_tag": "ABX9TyMJdNw/MVRQGnXSkiSMEOx7",
      "include_colab_link": true
    },
    "kernelspec": {
      "name": "python3",
      "display_name": "Python 3"
    },
    "language_info": {
      "name": "python"
    }
  },
  "cells": [
    {
      "cell_type": "markdown",
      "metadata": {
        "id": "view-in-github",
        "colab_type": "text"
      },
      "source": [
        "<a href=\"https://colab.research.google.com/github/Nio2002/-Nio2002-Python-Projects-MLOPS-DEVLOPS-AL-ML-/blob/Nio2002-week_1/Assignment_1(Nikhil_kumar).ipynb\" target=\"_parent\"><img src=\"https://colab.research.google.com/assets/colab-badge.svg\" alt=\"Open In Colab\"/></a>"
      ]
    },
    {
      "cell_type": "code",
      "source": [
        "def lower_triangular(n):\n",
        "    \"\"\"\n",
        "    #Prints a lower triangular pattern of '*' with n rows.\n",
        "    #Each row a has a stars.\n",
        "    \"\"\"\n",
        "    print(\"Lower Triangular Pattern:\")\n",
        "    for a in range(1, n + 1):\n",
        "        print(\"* \" * a)\n",
        "    print()"
      ],
      "metadata": {
        "id": "cmfpQJMJzUZ4"
      },
      "execution_count": 11,
      "outputs": []
    },
    {
      "cell_type": "code",
      "source": [
        "def main():\n",
        "    lines = 7  # Number of rows for the patterns\n",
        "    lower_triangular(lines)\n",
        "\n",
        "\n",
        "if __name__ == \"__main__\":\n",
        "    main()"
      ],
      "metadata": {
        "colab": {
          "base_uri": "https://localhost:8080/"
        },
        "id": "kr7jdT3hznDy",
        "outputId": "43a32fe4-f4f2-4503-9f86-d23ef0dadbf7"
      },
      "execution_count": 12,
      "outputs": [
        {
          "output_type": "stream",
          "name": "stdout",
          "text": [
            "Lower Triangular Pattern:\n",
            "* \n",
            "* * \n",
            "* * * \n",
            "* * * * \n",
            "* * * * * \n",
            "* * * * * * \n",
            "* * * * * * * \n",
            "\n"
          ]
        }
      ]
    },
    {
      "cell_type": "code",
      "source": [
        "def upper_triangular(n):\n",
        "    \"\"\"\n",
        "    Prints an upper triangular pattern of '*' with n rows.\n",
        "    Starts with n stars decreasing to 1 star.\n",
        "    \"\"\"\n",
        "    print(\"Upper Triangular Pattern:\")\n",
        "    for a in range(n, 0, -1):\n",
        "        print(\"* \" * a)\n",
        "    print()"
      ],
      "metadata": {
        "id": "jjfiDJqH1Xqg"
      },
      "execution_count": 13,
      "outputs": []
    },
    {
      "cell_type": "code",
      "source": [
        "def main():\n",
        "    lines = 7  # Number of rows for the patterns\n",
        "    upper_triangular(lines)\n",
        "\n",
        "if __name__ == \"__main__\":\n",
        "    main()"
      ],
      "metadata": {
        "colab": {
          "base_uri": "https://localhost:8080/"
        },
        "id": "SsTcGVBs1ZEf",
        "outputId": "897ef9a8-824b-41c5-da63-0d3b0104680b"
      },
      "execution_count": 14,
      "outputs": [
        {
          "output_type": "stream",
          "name": "stdout",
          "text": [
            "Upper Triangular Pattern:\n",
            "* * * * * * * \n",
            "* * * * * * \n",
            "* * * * * \n",
            "* * * * \n",
            "* * * \n",
            "* * \n",
            "* \n",
            "\n"
          ]
        }
      ]
    },
    {
      "cell_type": "code",
      "source": [
        "def pyramid_pattern(n):\n",
        "    \"\"\"\n",
        "    Prints a centered pyramid pattern of '*' with n rows.\n",
        "    Each row a has a stars centered by spaces.\n",
        "    \"\"\"\n",
        "    print(\"Pyramid_Pattern:\")\n",
        "    for a in range(1, n + 1):\n",
        "        spaces = \" \" * (n - a)\n",
        "        stars = \"* \" * a\n",
        "        print(spaces + stars)\n",
        "    print()"
      ],
      "metadata": {
        "id": "2gCXtvWW1ZPJ"
      },
      "execution_count": 19,
      "outputs": []
    },
    {
      "cell_type": "code",
      "source": [
        "def main():\n",
        "    lines = 7  # Number of rows for the patterns\n",
        "    pyramid_pattern(lines)\n",
        "\n",
        "if __name__ == \"__main__\":\n",
        "    main()"
      ],
      "metadata": {
        "colab": {
          "base_uri": "https://localhost:8080/"
        },
        "id": "43--iabs1ZYI",
        "outputId": "db1e7828-aa9a-4c5c-9f20-cfa912442759"
      },
      "execution_count": 20,
      "outputs": [
        {
          "output_type": "stream",
          "name": "stdout",
          "text": [
            "Pyramid_Pattern:\n",
            "      * \n",
            "     * * \n",
            "    * * * \n",
            "   * * * * \n",
            "  * * * * * \n",
            " * * * * * * \n",
            "* * * * * * * \n",
            "\n"
          ]
        }
      ]
    }
  ]
}