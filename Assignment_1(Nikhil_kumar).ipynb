{
  "nbformat": 4,
  "nbformat_minor": 0,
  "metadata": {
    "colab": {
      "provenance": [],
      "authorship_tag": "ABX9TyPQ72hFoyDOOJyQF/E4t8Li",
      "include_colab_link": true
    },
    "kernelspec": {
      "name": "python3",
      "display_name": "Python 3"
    },
    "language_info": {
      "name": "python"
    }
  },
  "cells": [
    {
      "cell_type": "markdown",
      "metadata": {
        "id": "view-in-github",
        "colab_type": "text"
      },
      "source": [
        "<a href=\"https://colab.research.google.com/github/Nio2002/-Nio2002-Python-Projects-MLOPS-DEVLOPS-AL-ML-/blob/main/Assignment_1(Nikhil_kumar).ipynb\" target=\"_parent\"><img src=\"https://colab.research.google.com/assets/colab-badge.svg\" alt=\"Open In Colab\"/></a>"
      ]
    },
    {
      "cell_type": "code",
      "execution_count": 1,
      "metadata": {
        "colab": {
          "base_uri": "https://localhost:8080/"
        },
        "id": "HJeMDlRvxPAg",
        "outputId": "401d3271-5949-4acf-ffce-f803682aee5e"
      },
      "outputs": [
        {
          "output_type": "stream",
          "name": "stdout",
          "text": [
            "Lower Triangular Pattern:\n",
            "* \n",
            "* * \n",
            "* * * \n",
            "* * * * \n",
            "* * * * * \n",
            "* * * * * * \n",
            "* * * * * * * \n",
            "\n",
            "Upper Triangular Pattern:\n",
            "* * * * * * * \n",
            "* * * * * * \n",
            "* * * * * \n",
            "* * * * \n",
            "* * * \n",
            "* * \n",
            "* \n",
            "\n",
            "Pyramid Pattern:\n",
            "      * \n",
            "     * * \n",
            "    * * * \n",
            "   * * * * \n",
            "  * * * * * \n",
            " * * * * * * \n",
            "* * * * * * * \n",
            "\n"
          ]
        }
      ],
      "source": [
        "def lower_triangular(n):\n",
        "    \"\"\"\n",
        "    Prints a lower triangular pattern of '*' with n rows.\n",
        "    Each row i has i stars.\n",
        "    \"\"\"\n",
        "    print(\"Lower Triangular Pattern:\")\n",
        "    for i in range(1, n + 1):\n",
        "        print(\"* \" * i)\n",
        "    print()\n",
        "\n",
        "def upper_triangular(n):\n",
        "    \"\"\"\n",
        "    Prints an upper triangular pattern of '*' with n rows.\n",
        "    Starts with n stars decreasing to 1 star.\n",
        "    \"\"\"\n",
        "    print(\"Upper Triangular Pattern:\")\n",
        "    for i in range(n, 0, -1):\n",
        "        print(\"* \" * i)\n",
        "    print()\n",
        "\n",
        "def pyramid(n):\n",
        "    \"\"\"\n",
        "    Prints a centered pyramid pattern of '*' with n rows.\n",
        "    Each row i has i stars centered by spaces.\n",
        "    \"\"\"\n",
        "    print(\"Pyramid Pattern:\")\n",
        "    for i in range(1, n + 1):\n",
        "        spaces = \" \" * (n - i)\n",
        "        stars = \"* \" * i\n",
        "        print(spaces + stars)\n",
        "    print()\n",
        "\n",
        "def main():\n",
        "    lines = 7  # Number of rows for the patterns\n",
        "    lower_triangular(lines)\n",
        "    upper_triangular(lines)\n",
        "    pyramid(lines)\n",
        "\n",
        "if __name__ == \"__main__\":\n",
        "    main()\n"
      ]
    }
  ]
}