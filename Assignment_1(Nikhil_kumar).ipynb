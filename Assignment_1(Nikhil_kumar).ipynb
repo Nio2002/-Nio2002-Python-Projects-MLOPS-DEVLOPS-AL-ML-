
{
  "nbformat": 4,
  "nbformat_minor": 0,
  "metadata": {
    "colab": {
      "provenance": [],
      "authorship_tag": "ABX9TyMBjOvu2y+7a0r5JcPr5nPn",
      "include_colab_link": true
    },
    "kernelspec": {
      "name": "python3",
      "display_name": "Python 3"
    },
    "language_info": {
      "name": "python"
    }
  },
  "cells": [
    {
      "cell_type": "markdown",
      "metadata": {
        "id": "view-in-github",
        "colab_type": "text"
      },
      "source": [
        "<a href=\"https://colab.research.google.com/github/Nio2002/-Nio2002-Python-Projects-MLOPS-DEVLOPS-AL-ML-/blob/Nio2002-week_1/Assignment_1(Nikhil_kumar).ipynb\" target=\"_parent\"><img src=\"https://colab.research.google.com/assets/colab-badge.svg\" alt=\"Open In Colab\"/></a>"
      ]
    },
    {
      "cell_type": "code",
      "source": [
        "def lower_triangular(n):\n",
        "    \"\"\"\n",
        "    #Prints a lower triangular pattern of '*' with n rows.\n",
        "    #Each row i has i stars.\n",
        "    \"\"\"\n",
        "    print(\"Lower Triangular Pattern:\")\n",
        "    for i in range(1, n + 1):\n",
        "        print(\"* \" * i)\n",
        "    print()"
      ],
      "metadata": {
        "id": "cmfpQJMJzUZ4"
      },
      "execution_count": 2,
      "outputs": []
    },
    {
      "cell_type": "code",
      "source": [
        "def main():\n",
        "    lines = 7  # Number of rows for the patterns\n",
        "    lower_triangular(lines)\n",
        "\n",
        "\n",
        "if __name__ == \"__main__\":\n",
        "    main()"
      ],
      "metadata": {
        "colab": {
          "base_uri": "https://localhost:8080/"
        },
        "id": "kr7jdT3hznDy",
        "outputId": "37db6b65-b826-4cc0-9b21-88a85f4b329c"
      },
      "execution_count": 7,
      "outputs": [
        {
          "output_type": "stream",
          "name": "stdout",
          "text": [
            "Lower Triangular Pattern:\n",
            "* \n",
            "* * \n",
            "* * * \n",
            "* * * * \n",
            "* * * * * \n",
            "* * * * * * \n",
            "* * * * * * * \n",
            "\n"
          ]
        }
      ]
    },
    {
      "cell_type": "code",
      "source": [
        "def upper_triangular(n):\n",
        "    \"\"\"\n",
        "    Prints an upper triangular pattern of '*' with n rows.\n",
        "    Starts with n stars decreasing to 1 star.\n",
        "    \"\"\"\n",
        "    print(\"Upper Triangular Pattern:\")\n",
        "    for i in range(n, 0, -1):\n",
        "        print(\"* \" * i)\n",
        "    print()"
      ],
      "metadata": {
        "id": "jjfiDJqH1Xqg"
      },
      "execution_count": null,
      "outputs": []
    },
    {
      "cell_type": "code",
      "source": [
        "def main():\n",
        "    lines = 7  # Number of rows for the patterns\n",
        "    upper_triangular(lines)\n",
        "\n",
        "if __name__ == \"__main__\":\n",
        "    main()"
      ],
      "metadata": {
        "colab": {
          "base_uri": "https://localhost:8080/"
        },
        "id": "SsTcGVBs1ZEf",
        "outputId": "ddce835e-81b7-4044-86d4-d20a689ed069"
      },
      "execution_count": 8,
      "outputs": [
        {
          "output_type": "stream",
          "name": "stdout",
          "text": [
            "Upper Triangular Pattern:\n",
            "* * * * * * * \n",
            "* * * * * * \n",
            "* * * * * \n",
            "* * * * \n",
            "* * * \n",
            "* * \n",
            "* \n",
            "\n"
          ]
        }
      ]
    },
    {
      "cell_type": "code",
      "source": [
        "def pyramid(n):\n",
        "    \"\"\"\n",
        "    Prints a centered pyramid pattern of '*' with n rows.\n",
        "    Each row i has i stars centered by spaces.\n",
        "    \"\"\"\n",
        "    print(\"Pyramid Pattern:\")\n",
        "    for i in range(1, n + 1):\n",
        "        spaces = \" \" * (n - i)\n",
        "        stars = \"* \" * i\n",
        "        print(spaces + stars)\n",
        "    print()"
      ],
      "metadata": {
        "id": "2gCXtvWW1ZPJ"
      },
      "execution_count": null,
      "outputs": []
    },
    {
      "cell_type": "code",
      "source": [
        "def main():\n",
        "    lines = 7  # Number of rows for the patterns\n",
        "    pyramid(lines)\n",
        "\n",
        "if __name__ == \"__main__\":\n",
        "    main()"
      ],
      "metadata": {
        "colab": {
          "base_uri": "https://localhost:8080/"
        },
        "id": "43--iabs1ZYI",
        "outputId": "73b9f450-f9da-4a48-9198-05b3b8f9374f"
      },
      "execution_count": 9,
      "outputs": [
        {
          "output_type": "stream",
          "name": "stdout",
          "text": [
            "Pyramid Pattern:\n",
            "      * \n",
            "     * * \n",
            "    * * * \n",
            "   * * * * \n",
            "  * * * * * \n",
            " * * * * * * \n",
            "* * * * * * * \n",
            "\n"
          ]
        }
      ]
    }
  ]
}
